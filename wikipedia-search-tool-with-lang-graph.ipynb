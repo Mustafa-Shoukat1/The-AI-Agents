{
 "cells": [
  {
   "cell_type": "code",
   "execution_count": 1,
   "id": "d43f0889",
   "metadata": {
    "execution": {
     "iopub.execute_input": "2024-10-21T17:13:01.147353Z",
     "iopub.status.busy": "2024-10-21T17:13:01.146931Z",
     "iopub.status.idle": "2024-10-21T17:13:37.843989Z",
     "shell.execute_reply": "2024-10-21T17:13:37.842698Z"
    },
    "id": "7FbteuSO3tV5",
    "papermill": {
     "duration": 36.707153,
     "end_time": "2024-10-21T17:13:37.846592",
     "exception": false,
     "start_time": "2024-10-21T17:13:01.139439",
     "status": "completed"
    },
    "tags": []
   },
   "outputs": [
    {
     "name": "stdout",
     "output_type": "stream",
     "text": [
      "\u001b[31mERROR: pip's dependency resolver does not currently take into account all the packages that are installed. This behaviour is the source of the following dependency conflicts.\r\n",
      "google-cloud-bigquery 2.34.4 requires packaging<22.0dev,>=14.3, but you have packaging 24.1 which is incompatible.\r\n",
      "jupyterlab 4.2.5 requires jupyter-lsp>=2.0.0, but you have jupyter-lsp 1.5.1 which is incompatible.\r\n",
      "jupyterlab-lsp 5.1.0 requires jupyter-lsp>=2.0.0, but you have jupyter-lsp 1.5.1 which is incompatible.\r\n",
      "kfp 2.5.0 requires google-cloud-storage<3,>=2.2.1, but you have google-cloud-storage 1.44.0 which is incompatible.\r\n",
      "kfp 2.5.0 requires requests-toolbelt<1,>=0.8.0, but you have requests-toolbelt 1.0.0 which is incompatible.\r\n",
      "libpysal 4.9.2 requires shapely>=2.0.1, but you have shapely 1.8.5.post1 which is incompatible.\r\n",
      "thinc 8.3.2 requires numpy<2.1.0,>=2.0.0; python_version >= \"3.9\", but you have numpy 1.26.4 which is incompatible.\r\n",
      "ydata-profiling 4.10.0 requires scipy<1.14,>=1.4.1, but you have scipy 1.14.1 which is incompatible.\u001b[0m\u001b[31m\r\n",
      "\u001b[0m"
     ]
    }
   ],
   "source": [
    "!pip install langgraph langsmith langchain langchain_groq langchain_community --quiet\n",
    "\n",
    "!pip install arxiv wikipedia --quiet"
   ]
  },
  {
   "cell_type": "code",
   "execution_count": 2,
   "id": "80d83126",
   "metadata": {
    "execution": {
     "iopub.execute_input": "2024-10-21T17:13:37.859716Z",
     "iopub.status.busy": "2024-10-21T17:13:37.859268Z",
     "iopub.status.idle": "2024-10-21T17:13:37.873497Z",
     "shell.execute_reply": "2024-10-21T17:13:37.872533Z"
    },
    "id": "7nby_Ijb4iDe",
    "papermill": {
     "duration": 0.023468,
     "end_time": "2024-10-21T17:13:37.875927",
     "exception": false,
     "start_time": "2024-10-21T17:13:37.852459",
     "status": "completed"
    },
    "tags": []
   },
   "outputs": [],
   "source": [
    "from typing import Annotated\n",
    "\n",
    "from typing_extensions import TypedDict"
   ]
  },
  {
   "cell_type": "code",
   "execution_count": 3,
   "id": "1b1b5888",
   "metadata": {
    "execution": {
     "iopub.execute_input": "2024-10-21T17:13:37.887959Z",
     "iopub.status.busy": "2024-10-21T17:13:37.887317Z",
     "iopub.status.idle": "2024-10-21T17:13:39.421095Z",
     "shell.execute_reply": "2024-10-21T17:13:39.419922Z"
    },
    "id": "zXI3qaom5a03",
    "papermill": {
     "duration": 1.542637,
     "end_time": "2024-10-21T17:13:39.423629",
     "exception": false,
     "start_time": "2024-10-21T17:13:37.880992",
     "status": "completed"
    },
    "tags": []
   },
   "outputs": [],
   "source": [
    "## Working With Tools\n",
    "\n",
    "\n",
    "\n",
    "from langchain_community.utilities import ArxivAPIWrapper,WikipediaAPIWrapper\n",
    "\n",
    "from langchain_community.tools import ArxivQueryRun,WikipediaQueryRun\n",
    "\n",
    "\n",
    "\n",
    "## Arxiv And Wikipedia tools\n",
    "\n",
    "arxiv_wrapper=ArxivAPIWrapper(top_k_results=1,doc_content_chars_max=300)\n",
    "\n",
    "arxiv_tool=ArxivQueryRun(api_wrapper=arxiv_wrapper)\n",
    "\n",
    "\n",
    "\n",
    "api_wrapper=WikipediaAPIWrapper(top_k_results=1,doc_content_chars_max=300)\n",
    "\n",
    "wiki_tool=WikipediaQueryRun(api_wrapper=api_wrapper)"
   ]
  },
  {
   "cell_type": "code",
   "execution_count": 4,
   "id": "f522efef",
   "metadata": {
    "execution": {
     "iopub.execute_input": "2024-10-21T17:13:39.436149Z",
     "iopub.status.busy": "2024-10-21T17:13:39.435514Z",
     "iopub.status.idle": "2024-10-21T17:13:41.097458Z",
     "shell.execute_reply": "2024-10-21T17:13:41.096293Z"
    },
    "id": "BdE09N5-5xCz",
    "outputId": "3caeeaa8-e918-458e-d2ef-45f79d9d2850",
    "papermill": {
     "duration": 1.670738,
     "end_time": "2024-10-21T17:13:41.099705",
     "exception": false,
     "start_time": "2024-10-21T17:13:39.428967",
     "status": "completed"
    },
    "tags": []
   },
   "outputs": [
    {
     "data": {
      "text/plain": [
       "\"Page: Shaukat Siddiqui\\nSummary: Shaukat Siddiqi (Urdu: شوکت صدیقی; 20 March 1923 – 18 December 2006) was a Pakistani writer of fiction who wrote in Urdu language. He is best known for his  novels Khuda Ki Basti (God's Village) and Jangloos.\\n\\n\""
      ]
     },
     "execution_count": 4,
     "metadata": {},
     "output_type": "execute_result"
    }
   ],
   "source": [
    "wiki_tool.invoke(\"who is Mustafa Shoukat\")"
   ]
  },
  {
   "cell_type": "code",
   "execution_count": 5,
   "id": "3f2f727b",
   "metadata": {
    "execution": {
     "iopub.execute_input": "2024-10-21T17:13:41.112449Z",
     "iopub.status.busy": "2024-10-21T17:13:41.112012Z",
     "iopub.status.idle": "2024-10-21T17:13:43.254761Z",
     "shell.execute_reply": "2024-10-21T17:13:43.253668Z"
    },
    "id": "thYaNDYy5w_w",
    "outputId": "7a52a1fb-f651-4f49-94c4-955a24c12a36",
    "papermill": {
     "duration": 2.151897,
     "end_time": "2024-10-21T17:13:43.257129",
     "exception": false,
     "start_time": "2024-10-21T17:13:41.105232",
     "status": "completed"
    },
    "tags": []
   },
   "outputs": [
    {
     "data": {
      "text/plain": [
       "\"Published: 2024-07-22\\nTitle: Attention Is All You Need But You Don't Need All Of It For Inference of Large Language Models\\nAuthors: Georgy Tyukin, Gbetondji J-S Dovonon, Jean Kaddour, Pasquale Minervini\\nSummary: The inference demand for LLMs has skyrocketed in recent months, and serving\\nmodels with \""
      ]
     },
     "execution_count": 5,
     "metadata": {},
     "output_type": "execute_result"
    }
   ],
   "source": [
    "arxiv_tool.invoke(\"Attention is all you need\")"
   ]
  },
  {
   "cell_type": "code",
   "execution_count": 6,
   "id": "73b55028",
   "metadata": {
    "execution": {
     "iopub.execute_input": "2024-10-21T17:13:43.271710Z",
     "iopub.status.busy": "2024-10-21T17:13:43.271269Z",
     "iopub.status.idle": "2024-10-21T17:13:43.276285Z",
     "shell.execute_reply": "2024-10-21T17:13:43.275302Z"
    },
    "id": "ek52WFGI6lTq",
    "papermill": {
     "duration": 0.015415,
     "end_time": "2024-10-21T17:13:43.278637",
     "exception": false,
     "start_time": "2024-10-21T17:13:43.263222",
     "status": "completed"
    },
    "tags": []
   },
   "outputs": [],
   "source": [
    "tools=[arxiv_tool]"
   ]
  },
  {
   "cell_type": "code",
   "execution_count": 7,
   "id": "cb09a91c",
   "metadata": {
    "execution": {
     "iopub.execute_input": "2024-10-21T17:13:43.291436Z",
     "iopub.status.busy": "2024-10-21T17:13:43.291061Z",
     "iopub.status.idle": "2024-10-21T17:13:43.331195Z",
     "shell.execute_reply": "2024-10-21T17:13:43.330229Z"
    },
    "id": "eC6q3tTg6slO",
    "papermill": {
     "duration": 0.04945,
     "end_time": "2024-10-21T17:13:43.333643",
     "exception": false,
     "start_time": "2024-10-21T17:13:43.284193",
     "status": "completed"
    },
    "tags": []
   },
   "outputs": [],
   "source": [
    "## Langgraph Application\n",
    "\n",
    "from langgraph.graph.message import add_messages\n",
    "\n",
    "class State(TypedDict):\n",
    "\n",
    "  messages:Annotated[list,add_messages]"
   ]
  },
  {
   "cell_type": "code",
   "execution_count": 8,
   "id": "71f78b4d",
   "metadata": {
    "execution": {
     "iopub.execute_input": "2024-10-21T17:13:43.347644Z",
     "iopub.status.busy": "2024-10-21T17:13:43.347229Z",
     "iopub.status.idle": "2024-10-21T17:13:43.352329Z",
     "shell.execute_reply": "2024-10-21T17:13:43.351157Z"
    },
    "id": "iXiurpCm7AWz",
    "papermill": {
     "duration": 0.015428,
     "end_time": "2024-10-21T17:13:43.354657",
     "exception": false,
     "start_time": "2024-10-21T17:13:43.339229",
     "status": "completed"
    },
    "tags": []
   },
   "outputs": [],
   "source": [
    "from langgraph.graph import StateGraph,START,END"
   ]
  },
  {
   "cell_type": "code",
   "execution_count": 9,
   "id": "0c40b2d8",
   "metadata": {
    "execution": {
     "iopub.execute_input": "2024-10-21T17:13:43.367954Z",
     "iopub.status.busy": "2024-10-21T17:13:43.367583Z",
     "iopub.status.idle": "2024-10-21T17:13:43.373208Z",
     "shell.execute_reply": "2024-10-21T17:13:43.372047Z"
    },
    "id": "X9nAxTc17JNh",
    "papermill": {
     "duration": 0.015578,
     "end_time": "2024-10-21T17:13:43.375644",
     "exception": false,
     "start_time": "2024-10-21T17:13:43.360066",
     "status": "completed"
    },
    "tags": []
   },
   "outputs": [],
   "source": [
    "graph_builder= StateGraph(State)\n"
   ]
  },
  {
   "cell_type": "code",
   "execution_count": 10,
   "id": "d146e56a",
   "metadata": {
    "execution": {
     "iopub.execute_input": "2024-10-21T17:13:43.388409Z",
     "iopub.status.busy": "2024-10-21T17:13:43.388029Z",
     "iopub.status.idle": "2024-10-21T17:13:43.412552Z",
     "shell.execute_reply": "2024-10-21T17:13:43.411553Z"
    },
    "id": "Kc-4UeZa7SU_",
    "papermill": {
     "duration": 0.033843,
     "end_time": "2024-10-21T17:13:43.415097",
     "exception": false,
     "start_time": "2024-10-21T17:13:43.381254",
     "status": "completed"
    },
    "tags": []
   },
   "outputs": [],
   "source": [
    "from langchain_groq import ChatGroq"
   ]
  },
  {
   "cell_type": "code",
   "execution_count": 11,
   "id": "295a83a3",
   "metadata": {
    "execution": {
     "iopub.execute_input": "2024-10-21T17:13:43.428679Z",
     "iopub.status.busy": "2024-10-21T17:13:43.428255Z",
     "iopub.status.idle": "2024-10-21T17:13:43.433151Z",
     "shell.execute_reply": "2024-10-21T17:13:43.432134Z"
    },
    "id": "s0Gsr9wr7gi9",
    "papermill": {
     "duration": 0.014244,
     "end_time": "2024-10-21T17:13:43.435431",
     "exception": false,
     "start_time": "2024-10-21T17:13:43.421187",
     "status": "completed"
    },
    "tags": []
   },
   "outputs": [],
   "source": [
    "groq_api_key= \"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\""
   ]
  },
  {
   "cell_type": "code",
   "execution_count": 12,
   "id": "b8599dd3",
   "metadata": {
    "execution": {
     "iopub.execute_input": "2024-10-21T17:13:43.448205Z",
     "iopub.status.busy": "2024-10-21T17:13:43.447828Z",
     "iopub.status.idle": "2024-10-21T17:13:43.546269Z",
     "shell.execute_reply": "2024-10-21T17:13:43.545044Z"
    },
    "id": "63tR5KIk7Zyd",
    "outputId": "e2ed8833-bf36-4945-9f42-98e37d756ff9",
    "papermill": {
     "duration": 0.107482,
     "end_time": "2024-10-21T17:13:43.548568",
     "exception": false,
     "start_time": "2024-10-21T17:13:43.441086",
     "status": "completed"
    },
    "tags": []
   },
   "outputs": [
    {
     "data": {
      "text/plain": [
       "ChatGroq(client=<groq.resources.chat.completions.Completions object at 0x794fb836e410>, async_client=<groq.resources.chat.completions.AsyncCompletions object at 0x794fb839c880>, model_name='Gemma2-9b-It', model_kwargs={}, groq_api_key=SecretStr('**********'))"
      ]
     },
     "execution_count": 12,
     "metadata": {},
     "output_type": "execute_result"
    }
   ],
   "source": [
    "llm=ChatGroq(groq_api_key=groq_api_key,model_name=\"Gemma2-9b-It\")\n",
    "\n",
    "llm"
   ]
  },
  {
   "cell_type": "code",
   "execution_count": 13,
   "id": "50a36297",
   "metadata": {
    "execution": {
     "iopub.execute_input": "2024-10-21T17:13:43.562019Z",
     "iopub.status.busy": "2024-10-21T17:13:43.561634Z",
     "iopub.status.idle": "2024-10-21T17:13:43.694878Z",
     "shell.execute_reply": "2024-10-21T17:13:43.693765Z"
    },
    "id": "HS2TyqvY8BcL",
    "papermill": {
     "duration": 0.14284,
     "end_time": "2024-10-21T17:13:43.697577",
     "exception": false,
     "start_time": "2024-10-21T17:13:43.554737",
     "status": "completed"
    },
    "tags": []
   },
   "outputs": [],
   "source": [
    "llm_with_tools=llm.bind_tools(tools=tools)"
   ]
  },
  {
   "cell_type": "code",
   "execution_count": 14,
   "id": "2c01dbee",
   "metadata": {
    "execution": {
     "iopub.execute_input": "2024-10-21T17:13:43.710579Z",
     "iopub.status.busy": "2024-10-21T17:13:43.710193Z",
     "iopub.status.idle": "2024-10-21T17:13:43.715625Z",
     "shell.execute_reply": "2024-10-21T17:13:43.714493Z"
    },
    "id": "uhh-mYKn7sPU",
    "papermill": {
     "duration": 0.014584,
     "end_time": "2024-10-21T17:13:43.717926",
     "exception": false,
     "start_time": "2024-10-21T17:13:43.703342",
     "status": "completed"
    },
    "tags": []
   },
   "outputs": [],
   "source": [
    "def chatbot(state:State):\n",
    "\n",
    "  return {\"messages\":[llm_with_tools.invoke(state[\"messages\"])]}"
   ]
  },
  {
   "cell_type": "code",
   "execution_count": 15,
   "id": "a815b21a",
   "metadata": {
    "execution": {
     "iopub.execute_input": "2024-10-21T17:13:43.730897Z",
     "iopub.status.busy": "2024-10-21T17:13:43.730465Z",
     "iopub.status.idle": "2024-10-21T17:13:43.742797Z",
     "shell.execute_reply": "2024-10-21T17:13:43.741521Z"
    },
    "id": "81qlR2Kl8uZL",
    "papermill": {
     "duration": 0.021779,
     "end_time": "2024-10-21T17:13:43.745368",
     "exception": false,
     "start_time": "2024-10-21T17:13:43.723589",
     "status": "completed"
    },
    "tags": []
   },
   "outputs": [],
   "source": [
    "from langgraph.prebuilt import ToolNode,tools_condition"
   ]
  },
  {
   "cell_type": "code",
   "execution_count": 16,
   "id": "2c5d705f",
   "metadata": {
    "execution": {
     "iopub.execute_input": "2024-10-21T17:13:43.758509Z",
     "iopub.status.busy": "2024-10-21T17:13:43.758114Z",
     "iopub.status.idle": "2024-10-21T17:13:43.767949Z",
     "shell.execute_reply": "2024-10-21T17:13:43.766833Z"
    },
    "id": "3prnJx4M8YLF",
    "outputId": "c3995855-a62a-4707-b391-390036df0aab",
    "papermill": {
     "duration": 0.019022,
     "end_time": "2024-10-21T17:13:43.770214",
     "exception": false,
     "start_time": "2024-10-21T17:13:43.751192",
     "status": "completed"
    },
    "tags": []
   },
   "outputs": [
    {
     "data": {
      "text/plain": [
       "<langgraph.graph.state.StateGraph at 0x794fb8456770>"
      ]
     },
     "execution_count": 16,
     "metadata": {},
     "output_type": "execute_result"
    }
   ],
   "source": [
    "graph_builder.add_node(\"chatbot\",chatbot)\n",
    "\n",
    "tool_node = ToolNode(tools=tools)\n",
    "\n",
    "graph_builder.add_node(\"tools\", tool_node)\n",
    "\n",
    "\n",
    "\n",
    "graph_builder.add_conditional_edges(\n",
    "\n",
    "    \"chatbot\",\n",
    "\n",
    "    tools_condition,\n",
    "\n",
    ")\n",
    "\n",
    "graph_builder.add_edge(\"tools\", \"chatbot\")\n",
    "\n",
    "graph_builder.add_edge(START,\"chatbot\")\n"
   ]
  },
  {
   "cell_type": "code",
   "execution_count": 17,
   "id": "56a32795",
   "metadata": {
    "execution": {
     "iopub.execute_input": "2024-10-21T17:13:43.783328Z",
     "iopub.status.busy": "2024-10-21T17:13:43.782907Z",
     "iopub.status.idle": "2024-10-21T17:13:43.788563Z",
     "shell.execute_reply": "2024-10-21T17:13:43.787540Z"
    },
    "id": "q1ztKyS79-YE",
    "papermill": {
     "duration": 0.014894,
     "end_time": "2024-10-21T17:13:43.790855",
     "exception": false,
     "start_time": "2024-10-21T17:13:43.775961",
     "status": "completed"
    },
    "tags": []
   },
   "outputs": [],
   "source": [
    "graph=graph_builder.compile()"
   ]
  },
  {
   "cell_type": "code",
   "execution_count": 18,
   "id": "795a092b",
   "metadata": {
    "execution": {
     "iopub.execute_input": "2024-10-21T17:13:43.803943Z",
     "iopub.status.busy": "2024-10-21T17:13:43.803499Z",
     "iopub.status.idle": "2024-10-21T17:13:43.867028Z",
     "shell.execute_reply": "2024-10-21T17:13:43.865458Z"
    },
    "id": "bg6et4vC-B_Y",
    "outputId": "c46c078f-2a14-4fd7-83be-3fdb5d5145e6",
    "papermill": {
     "duration": 0.072944,
     "end_time": "2024-10-21T17:13:43.869568",
     "exception": false,
     "start_time": "2024-10-21T17:13:43.796624",
     "status": "completed"
    },
    "tags": []
   },
   "outputs": [
    {
     "data": {
      "image/jpeg": "[encoded data removed]",
      "text/plain": [
       "<IPython.core.display.Image object>"
      ]
     },
     "metadata": {},
     "output_type": "display_data"
    }
   ],
   "source": [
    "from IPython.display import Image, display\n",
    "\n",
    "\n",
    "\n",
    "try:\n",
    "\n",
    "    display(Image(graph.get_graph().draw_mermaid_png()))\n",
    "\n",
    "except Exception:\n",
    "\n",
    "    # This requires some extra dependencies and is optional\n",
    "\n",
    "    pass"
   ]
  },
  {
   "cell_type": "code",
   "execution_count": 19,
   "id": "109a7608",
   "metadata": {
    "execution": {
     "iopub.execute_input": "2024-10-21T17:13:43.883676Z",
     "iopub.status.busy": "2024-10-21T17:13:43.883231Z",
     "iopub.status.idle": "2024-10-21T17:13:46.517167Z",
     "shell.execute_reply": "2024-10-21T17:13:46.516035Z"
    },
    "id": "_1M_0ihg-OK3",
    "outputId": "fd515c59-e167-4faa-cfe3-b5ac8a197930",
    "papermill": {
     "duration": 2.643556,
     "end_time": "2024-10-21T17:13:46.519392",
     "exception": false,
     "start_time": "2024-10-21T17:13:43.875836",
     "status": "completed"
    },
    "tags": []
   },
   "outputs": [
    {
     "name": "stdout",
     "output_type": "stream",
     "text": [
      "================================\u001b[1m Human Message \u001b[0m=================================\n",
      "\n",
      "Hi there!, My name is John\n",
      "==================================\u001b[1m Ai Message \u001b[0m==================================\n",
      "Tool Calls:\n",
      "  arxiv (call_cema)\n",
      " Call ID: call_cema\n",
      "  Args:\n",
      "    query: John\n",
      "=================================\u001b[1m Tool Message \u001b[0m=================================\n",
      "Name: arxiv\n",
      "\n",
      "Published: 2014-03-19\n",
      "Title: Chromatic redshift\n",
      "Authors: John Rognes\n",
      "Summary: Notes for the author's MSRI lecture in January 2014.\n",
      "==================================\u001b[1m Ai Message \u001b[0m==================================\n",
      "\n",
      "Interesting.  What else can I help you with?\n"
     ]
    }
   ],
   "source": [
    "user_input=\"Hi there!, My name is John\"\n",
    "\n",
    "\n",
    "\n",
    "events=graph.stream(\n",
    "\n",
    "     {\"messages\": [(\"user\", user_input)]},stream_mode=\"values\"\n",
    "\n",
    ")\n",
    "\n",
    "\n",
    "\n",
    "for event in events:\n",
    "\n",
    "  event[\"messages\"][-1].pretty_print()"
   ]
  },
  {
   "cell_type": "code",
   "execution_count": 20,
   "id": "ac2376bf",
   "metadata": {
    "execution": {
     "iopub.execute_input": "2024-10-21T17:13:46.533696Z",
     "iopub.status.busy": "2024-10-21T17:13:46.533293Z",
     "iopub.status.idle": "2024-10-21T17:13:49.649049Z",
     "shell.execute_reply": "2024-10-21T17:13:49.647891Z"
    },
    "id": "HnWrp7Xe-xey",
    "outputId": "5a899fd5-15f6-4d77-85fe-30a3d42b300d",
    "papermill": {
     "duration": 3.12576,
     "end_time": "2024-10-21T17:13:49.651586",
     "exception": false,
     "start_time": "2024-10-21T17:13:46.525826",
     "status": "completed"
    },
    "tags": []
   },
   "outputs": [
    {
     "name": "stdout",
     "output_type": "stream",
     "text": [
      "================================\u001b[1m Human Message \u001b[0m=================================\n",
      "\n",
      "what is RLHF.\n",
      "==================================\u001b[1m Ai Message \u001b[0m==================================\n",
      "Tool Calls:\n",
      "  arxiv (call_zhgv)\n",
      " Call ID: call_zhgv\n",
      "  Args:\n",
      "    query: RLHF\n",
      "=================================\u001b[1m Tool Message \u001b[0m=================================\n",
      "Name: arxiv\n",
      "\n",
      "Published: 2024-07-15\n",
      "Title: Exploration-Driven Policy Optimization in RLHF: Theoretical Insights on Efficient Data Utilization\n",
      "Authors: Yihan Du, Anna Winnicki, Gal Dalal, Shie Mannor, R. Srikant\n",
      "Summary: Reinforcement Learning from Human Feedback (RLHF) has achieved impressive\n",
      "empirical successes \n",
      "==================================\u001b[1m Ai Message \u001b[0m==================================\n",
      "\n",
      "RLHF, or Reinforcement Learning from Human Feedback, is a technique used to train AI models by incorporating human feedback into the learning process.  \n",
      "\n",
      "Here's a breakdown:\n",
      "\n",
      "* **Reinforcement Learning (RL):**  AI learns by interacting with an environment and receiving rewards or penalties for its actions. The goal is to learn a policy (a set of rules) that maximizes the cumulative reward.\n",
      "* **Human Feedback:** Instead of relying solely on predefined rewards, RLHF leverages human judgments to guide the learning process. Humans provide feedback on the AI's actions, indicating which are desirable and which are not.\n",
      "\n",
      "This feedback is used to:\n",
      "\n",
      "* **Reward Model:** Train a separate model to predict human preferences.\n",
      "* **Policy Optimization:**  Fine-tune the main AI policy using the rewards predicted by the reward model.\n",
      "\n",
      "\n",
      "RLHF has shown great promise in areas like:\n",
      "\n",
      "* **Dialogue Systems:** Creating chatbots that engage in more natural and human-like conversations.\n",
      "* **Text Generation:**  Generating creative and coherent text, such as stories, articles, and dialogue.\n",
      "* **Robotics:**  Training robots to perform tasks more effectively by learning from human demonstrations and feedback. \n",
      "\n",
      "\n",
      "\n",
      "Let me know if you'd like more details on any specific aspect of RLHF!\n"
     ]
    }
   ],
   "source": [
    "user_input = \"what is RLHF.\"\n",
    "\n",
    "\n",
    "\n",
    "# The config is the **second positional argument** to stream() or invoke()!\n",
    "\n",
    "events = graph.stream(\n",
    "\n",
    "    {\"messages\": [(\"user\", user_input)]},stream_mode=\"values\"\n",
    "\n",
    ")\n",
    "\n",
    "for event in events:\n",
    "\n",
    "    event[\"messages\"][-1].pretty_print()"
   ]
  }
 ],
 "metadata": {
  "accelerator": "GPU",
  "colab": {
   "gpuType": "T4",
   "machine_shape": "hm",
   "provenance": []
  },
  "kaggle": {
   "accelerator": "none",
   "dataSources": [],
   "dockerImageVersionId": 30786,
   "isGpuEnabled": false,
   "isInternetEnabled": true,
   "language": "python",
   "sourceType": "notebook"
  },
  "kernelspec": {
   "display_name": "Python 3",
   "language": "python",
   "name": "python3"
  },
  "language_info": {
   "codemirror_mode": {
    "name": "ipython",
    "version": 3
   },
   "file_extension": ".py",
   "mimetype": "text/x-python",
   "name": "python",
   "nbconvert_exporter": "python",
   "pygments_lexer": "ipython3",
   "version": "3.10.14"
  },
  "papermill": {
   "default_parameters": {},
   "duration": 51.783375,
   "end_time": "2024-10-21T17:13:50.280059",
   "environment_variables": {},
   "exception": null,
   "input_path": "__notebook__.ipynb",
   "output_path": "__notebook__.ipynb",
   "parameters": {},
   "start_time": "2024-10-21T17:12:58.496684",
   "version": "2.6.0"
  }
 },
 "nbformat": 4,
 "nbformat_minor": 5
}
