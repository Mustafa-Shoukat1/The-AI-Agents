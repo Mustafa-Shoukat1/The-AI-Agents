{
  "cells": [
    {
      "cell_type": "markdown",
      "metadata": {
        "id": "9a9-l634HM96"
      },
      "source": [
        "# Tools for a Customer Outreach Campaign"
      ]
    },
    {
      "cell_type": "code",
      "execution_count": null,
      "metadata": {
        "colab": {
          "base_uri": "https://localhost:8080/"
        },
        "collapsed": true,
        "id": "VEfN-cpqHcBW",
        "outputId": "24634048-0aef-4e38-96b9-729020e6c3ac"
      },
      "outputs": [
        {
          "output_type": "stream",
          "name": "stdout",
          "text": [
            "\u001b[2K     \u001b[90m━━━━━━━━━━━━━━━━━━━━━━━━━━━━━━━━━━━━━━━━\u001b[0m \u001b[32m40.9/40.9 kB\u001b[0m \u001b[31m524.1 kB/s\u001b[0m eta \u001b[36m0:00:00\u001b[0m\n",
            "\u001b[2K     \u001b[90m━━━━━━━━━━━━━━━━━━━━━━━━━━━━━━━━━━━━━━━━\u001b[0m \u001b[32m67.3/67.3 kB\u001b[0m \u001b[31m5.0 MB/s\u001b[0m eta \u001b[36m0:00:00\u001b[0m\n",
            "\u001b[?25h  Installing build dependencies ... \u001b[?25l\u001b[?25hdone\n",
            "  Getting requirements to build wheel ... \u001b[?25l\u001b[?25hdone\n",
            "  Preparing metadata (pyproject.toml) ... \u001b[?25l\u001b[?25hdone\n",
            "\u001b[2K     \u001b[90m━━━━━━━━━━━━━━━━━━━━━━━━━━━━━━━━━━━━━━━━\u001b[0m \u001b[32m50.6/50.6 kB\u001b[0m \u001b[31m4.1 MB/s\u001b[0m eta \u001b[36m0:00:00\u001b[0m\n",
            "\u001b[?25h\u001b[33mWARNING: embedchain 0.1.123 does not provide the extra 'github'\u001b[0m\u001b[33m\n",
            "\u001b[0m\u001b[33mWARNING: embedchain 0.1.123 does not provide the extra 'youtube'\u001b[0m\u001b[33m\n",
            "\u001b[0m\u001b[33mWARNING: embedchain 0.1.122 does not provide the extra 'github'\u001b[0m\u001b[33m\n",
            "\u001b[0m\u001b[33mWARNING: embedchain 0.1.122 does not provide the extra 'youtube'\u001b[0m\u001b[33m\n",
            "\u001b[0m\u001b[33mWARNING: embedchain 0.1.121 does not provide the extra 'github'\u001b[0m\u001b[33m\n",
            "\u001b[0m\u001b[33mWARNING: embedchain 0.1.121 does not provide the extra 'youtube'\u001b[0m\u001b[33m\n",
            "\u001b[0m\u001b[33mWARNING: embedchain 0.1.120 does not provide the extra 'github'\u001b[0m\u001b[33m\n",
            "\u001b[0m\u001b[33mWARNING: embedchain 0.1.120 does not provide the extra 'youtube'\u001b[0m\u001b[33m\n",
            "\u001b[0m\u001b[33mWARNING: embedchain 0.1.119 does not provide the extra 'github'\u001b[0m\u001b[33m\n",
            "\u001b[0m\u001b[33mWARNING: embedchain 0.1.119 does not provide the extra 'youtube'\u001b[0m\u001b[33m\n",
            "\u001b[0m\u001b[33mWARNING: embedchain 0.1.118 does not provide the extra 'github'\u001b[0m\u001b[33m\n",
            "\u001b[0m\u001b[33mWARNING: embedchain 0.1.118 does not provide the extra 'youtube'\u001b[0m\u001b[33m\n",
            "\u001b[0m\u001b[33mWARNING: embedchain 0.1.117 does not provide the extra 'github'\u001b[0m\u001b[33m\n",
            "\u001b[0m\u001b[33mWARNING: embedchain 0.1.117 does not provide the extra 'youtube'\u001b[0m\u001b[33m\n",
            "\u001b[2K     \u001b[90m━━━━━━━━━━━━━━━━━━━━━━━━━━━━━━━━━━━━━━━━\u001b[0m \u001b[32m160.7/160.7 kB\u001b[0m \u001b[31m5.9 MB/s\u001b[0m eta \u001b[36m0:00:00\u001b[0m\n",
            "\u001b[2K   \u001b[90m━━━━━━━━━━━━━━━━━━━━━━━━━━━━━━━━━━━━━━━━\u001b[0m \u001b[32m61.6/61.6 kB\u001b[0m \u001b[31m4.0 MB/s\u001b[0m eta \u001b[36m0:00:00\u001b[0m\n",
            "\u001b[2K   \u001b[90m━━━━━━━━━━━━━━━━━━━━━━━━━━━━━━━━━━━━━━━━\u001b[0m \u001b[32m47.7/47.7 kB\u001b[0m \u001b[31m3.1 MB/s\u001b[0m eta \u001b[36m0:00:00\u001b[0m\n",
            "\u001b[2K   \u001b[90m━━━━━━━━━━━━━━━━━━━━━━━━━━━━━━━━━━━━━━━━\u001b[0m \u001b[32m1.8/1.8 MB\u001b[0m \u001b[31m33.0 MB/s\u001b[0m eta \u001b[36m0:00:00\u001b[0m\n",
            "\u001b[2K   \u001b[90m━━━━━━━━━━━━━━━━━━━━━━━━━━━━━━━━━━━━━━━━\u001b[0m \u001b[32m525.5/525.5 kB\u001b[0m \u001b[31m30.7 MB/s\u001b[0m eta \u001b[36m0:00:00\u001b[0m\n",
            "\u001b[2K   \u001b[90m━━━━━━━━━━━━━━━━━━━━━━━━━━━━━━━━━━━━━━━━\u001b[0m \u001b[32m2.4/2.4 MB\u001b[0m \u001b[31m72.1 MB/s\u001b[0m eta \u001b[36m0:00:00\u001b[0m\n",
            "\u001b[2K   \u001b[90m━━━━━━━━━━━━━━━━━━━━━━━━━━━━━━━━━━━━━━━━\u001b[0m \u001b[32m202.6/202.6 kB\u001b[0m \u001b[31m15.5 MB/s\u001b[0m eta \u001b[36m0:00:00\u001b[0m\n",
            "\u001b[2K   \u001b[90m━━━━━━━━━━━━━━━━━━━━━━━━━━━━━━━━━━━━━━━━\u001b[0m \u001b[32m115.1/115.1 kB\u001b[0m \u001b[31m8.5 MB/s\u001b[0m eta \u001b[36m0:00:00\u001b[0m\n",
            "\u001b[2K   \u001b[90m━━━━━━━━━━━━━━━━━━━━━━━━━━━━━━━━━━━━━━━━\u001b[0m \u001b[32m21.6/21.6 MB\u001b[0m \u001b[31m49.7 MB/s\u001b[0m eta \u001b[36m0:00:00\u001b[0m\n",
            "\u001b[2K   \u001b[90m━━━━━━━━━━━━━━━━━━━━━━━━━━━━━━━━━━━━━━━━\u001b[0m \u001b[32m810.5/810.5 kB\u001b[0m \u001b[31m38.3 MB/s\u001b[0m eta \u001b[36m0:00:00\u001b[0m\n",
            "\u001b[2K   \u001b[90m━━━━━━━━━━━━━━━━━━━━━━━━━━━━━━━━━━━━━━━━\u001b[0m \u001b[32m302.9/302.9 kB\u001b[0m \u001b[31m21.7 MB/s\u001b[0m eta \u001b[36m0:00:00\u001b[0m\n",
            "\u001b[2K   \u001b[90m━━━━━━━━━━━━━━━━━━━━━━━━━━━━━━━━━━━━━━━━\u001b[0m \u001b[32m296.7/296.7 kB\u001b[0m \u001b[31m20.0 MB/s\u001b[0m eta \u001b[36m0:00:00\u001b[0m\n",
            "\u001b[2K   \u001b[90m━━━━━━━━━━━━━━━━━━━━━━━━━━━━━━━━━━━━━━━━\u001b[0m \u001b[32m386.9/386.9 kB\u001b[0m \u001b[31m25.5 MB/s\u001b[0m eta \u001b[36m0:00:00\u001b[0m\n",
            "\u001b[2K   \u001b[90m━━━━━━━━━━━━━━━━━━━━━━━━━━━━━━━━━━━━━━━━\u001b[0m \u001b[32m64.0/64.0 kB\u001b[0m \u001b[31m5.0 MB/s\u001b[0m eta \u001b[36m0:00:00\u001b[0m\n",
            "\u001b[2K   \u001b[90m━━━━━━━━━━━━━━━━━━━━━━━━━━━━━━━━━━━━━━━━\u001b[0m \u001b[32m52.5/52.5 kB\u001b[0m \u001b[31m4.2 MB/s\u001b[0m eta \u001b[36m0:00:00\u001b[0m\n",
            "\u001b[2K   \u001b[90m━━━━━━━━━━━━━━━━━━━━━━━━━━━━━━━━━━━━━━━━\u001b[0m \u001b[32m110.5/110.5 kB\u001b[0m \u001b[31m9.0 MB/s\u001b[0m eta \u001b[36m0:00:00\u001b[0m\n",
            "\u001b[2K   \u001b[90m━━━━━━━━━━━━━━━━━━━━━━━━━━━━━━━━━━━━━━━━\u001b[0m \u001b[32m149.7/149.7 kB\u001b[0m \u001b[31m12.4 MB/s\u001b[0m eta \u001b[36m0:00:00\u001b[0m\n",
            "\u001b[2K   \u001b[90m━━━━━━━━━━━━━━━━━━━━━━━━━━━━━━━━━━━━━━━━\u001b[0m \u001b[32m342.3/342.3 kB\u001b[0m \u001b[31m24.2 MB/s\u001b[0m eta \u001b[36m0:00:00\u001b[0m\n",
            "\u001b[2K   \u001b[90m━━━━━━━━━━━━━━━━━━━━━━━━━━━━━━━━━━━━━━━━\u001b[0m \u001b[32m57.6/57.6 kB\u001b[0m \u001b[31m4.6 MB/s\u001b[0m eta \u001b[36m0:00:00\u001b[0m\n",
            "\u001b[2K   \u001b[90m━━━━━━━━━━━━━━━━━━━━━━━━━━━━━━━━━━━━━━━━\u001b[0m \u001b[32m774.0/774.0 kB\u001b[0m \u001b[31m38.6 MB/s\u001b[0m eta \u001b[36m0:00:00\u001b[0m\n",
            "\u001b[2K   \u001b[90m━━━━━━━━━━━━━━━━━━━━━━━━━━━━━━━━━━━━━━━━\u001b[0m \u001b[32m9.7/9.7 MB\u001b[0m \u001b[31m85.4 MB/s\u001b[0m eta \u001b[36m0:00:00\u001b[0m\n",
            "\u001b[2K   \u001b[90m━━━━━━━━━━━━━━━━━━━━━━━━━━━━━━━━━━━━━━━━\u001b[0m \u001b[32m233.2/233.2 kB\u001b[0m \u001b[31m15.1 MB/s\u001b[0m eta \u001b[36m0:00:00\u001b[0m\n",
            "\u001b[2K   \u001b[90m━━━━━━━━━━━━━━━━━━━━━━━━━━━━━━━━━━━━━━━━\u001b[0m \u001b[32m273.8/273.8 kB\u001b[0m \u001b[31m18.3 MB/s\u001b[0m eta \u001b[36m0:00:00\u001b[0m\n",
            "\u001b[2K   \u001b[90m━━━━━━━━━━━━━━━━━━━━━━━━━━━━━━━━━━━━━━━━\u001b[0m \u001b[32m172.8/172.8 kB\u001b[0m \u001b[31m11.2 MB/s\u001b[0m eta \u001b[36m0:00:00\u001b[0m\n",
            "\u001b[2K   \u001b[90m━━━━━━━━━━━━━━━━━━━━━━━━━━━━━━━━━━━━━━━━\u001b[0m \u001b[32m67.7/67.7 kB\u001b[0m \u001b[31m5.2 MB/s\u001b[0m eta \u001b[36m0:00:00\u001b[0m\n",
            "\u001b[2K   \u001b[90m━━━━━━━━━━━━━━━━━━━━━━━━━━━━━━━━━━━━━━━━\u001b[0m \u001b[32m94.7/94.7 kB\u001b[0m \u001b[31m7.1 MB/s\u001b[0m eta \u001b[36m0:00:00\u001b[0m\n",
            "\u001b[2K   \u001b[90m━━━━━━━━━━━━━━━━━━━━━━━━━━━━━━━━━━━━━━━━\u001b[0m \u001b[32m131.6/131.6 kB\u001b[0m \u001b[31m8.9 MB/s\u001b[0m eta \u001b[36m0:00:00\u001b[0m\n",
            "\u001b[2K   \u001b[90m━━━━━━━━━━━━━━━━━━━━━━━━━━━━━━━━━━━━━━━━\u001b[0m \u001b[32m76.4/76.4 kB\u001b[0m \u001b[31m6.2 MB/s\u001b[0m eta \u001b[36m0:00:00\u001b[0m\n",
            "\u001b[2K   \u001b[90m━━━━━━━━━━━━━━━━━━━━━━━━━━━━━━━━━━━━━━━━\u001b[0m \u001b[32m78.0/78.0 kB\u001b[0m \u001b[31m6.3 MB/s\u001b[0m eta \u001b[36m0:00:00\u001b[0m\n",
            "\u001b[2K   \u001b[90m━━━━━━━━━━━━━━━━━━━━━━━━━━━━━━━━━━━━━━━━\u001b[0m \u001b[32m325.2/325.2 kB\u001b[0m \u001b[31m21.3 MB/s\u001b[0m eta \u001b[36m0:00:00\u001b[0m\n",
            "\u001b[2K   \u001b[90m━━━━━━━━━━━━━━━━━━━━━━━━━━━━━━━━━━━━━━━━\u001b[0m \u001b[32m1.9/1.9 MB\u001b[0m \u001b[31m51.2 MB/s\u001b[0m eta \u001b[36m0:00:00\u001b[0m\n",
            "\u001b[2K   \u001b[90m━━━━━━━━━━━━━━━━━━━━━━━━━━━━━━━━━━━━━━━━\u001b[0m \u001b[32m49.5/49.5 kB\u001b[0m \u001b[31m3.4 MB/s\u001b[0m eta \u001b[36m0:00:00\u001b[0m\n",
            "\u001b[2K   \u001b[90m━━━━━━━━━━━━━━━━━━━━━━━━━━━━━━━━━━━━━━━━\u001b[0m \u001b[32m93.2/93.2 kB\u001b[0m \u001b[31m7.1 MB/s\u001b[0m eta \u001b[36m0:00:00\u001b[0m\n",
            "\u001b[2K   \u001b[90m━━━━━━━━━━━━━━━━━━━━━━━━━━━━━━━━━━━━━━━━\u001b[0m \u001b[32m13.2/13.2 MB\u001b[0m \u001b[31m53.2 MB/s\u001b[0m eta \u001b[36m0:00:00\u001b[0m\n",
            "\u001b[2K   \u001b[90m━━━━━━━━━━━━━━━━━━━━━━━━━━━━━━━━━━━━━━━━\u001b[0m \u001b[32m144.5/144.5 kB\u001b[0m \u001b[31m10.3 MB/s\u001b[0m eta \u001b[36m0:00:00\u001b[0m\n",
            "\u001b[2K   \u001b[90m━━━━━━━━━━━━━━━━━━━━━━━━━━━━━━━━━━━━━━━━\u001b[0m \u001b[32m53.0/53.0 kB\u001b[0m \u001b[31m4.1 MB/s\u001b[0m eta \u001b[36m0:00:00\u001b[0m\n",
            "\u001b[2K   \u001b[90m━━━━━━━━━━━━━━━━━━━━━━━━━━━━━━━━━━━━━━━━\u001b[0m \u001b[32m54.4/54.4 kB\u001b[0m \u001b[31m4.3 MB/s\u001b[0m eta \u001b[36m0:00:00\u001b[0m\n",
            "\u001b[2K   \u001b[90m━━━━━━━━━━━━━━━━━━━━━━━━━━━━━━━━━━━━━━━━\u001b[0m \u001b[32m5.4/5.4 MB\u001b[0m \u001b[31m63.2 MB/s\u001b[0m eta \u001b[36m0:00:00\u001b[0m\n",
            "\u001b[2K   \u001b[90m━━━━━━━━━━━━━━━━━━━━━━━━━━━━━━━━━━━━━━━━\u001b[0m \u001b[32m342.2/342.2 kB\u001b[0m \u001b[31m17.7 MB/s\u001b[0m eta \u001b[36m0:00:00\u001b[0m\n",
            "\u001b[2K   \u001b[90m━━━━━━━━━━━━━━━━━━━━━━━━━━━━━━━━━━━━━━━━\u001b[0m \u001b[32m295.8/295.8 kB\u001b[0m \u001b[31m19.6 MB/s\u001b[0m eta \u001b[36m0:00:00\u001b[0m\n",
            "\u001b[2K   \u001b[90m━━━━━━━━━━━━━━━━━━━━━━━━━━━━━━━━━━━━━━━━\u001b[0m \u001b[32m71.1/71.1 kB\u001b[0m \u001b[31m4.9 MB/s\u001b[0m eta \u001b[36m0:00:00\u001b[0m\n",
            "\u001b[2K   \u001b[90m━━━━━━━━━━━━━━━━━━━━━━━━━━━━━━━━━━━━━━━━\u001b[0m \u001b[32m54.5/54.5 kB\u001b[0m \u001b[31m4.0 MB/s\u001b[0m eta \u001b[36m0:00:00\u001b[0m\n",
            "\u001b[2K   \u001b[90m━━━━━━━━━━━━━━━━━━━━━━━━━━━━━━━━━━━━━━━━\u001b[0m \u001b[32m1.1/1.1 MB\u001b[0m \u001b[31m39.7 MB/s\u001b[0m eta \u001b[36m0:00:00\u001b[0m\n",
            "\u001b[2K   \u001b[90m━━━━━━━━━━━━━━━━━━━━━━━━━━━━━━━━━━━━━━━━\u001b[0m \u001b[32m481.7/481.7 kB\u001b[0m \u001b[31m26.3 MB/s\u001b[0m eta \u001b[36m0:00:00\u001b[0m\n",
            "\u001b[2K   \u001b[90m━━━━━━━━━━━━━━━━━━━━━━━━━━━━━━━━━━━━━━━━\u001b[0m \u001b[32m46.0/46.0 kB\u001b[0m \u001b[31m3.4 MB/s\u001b[0m eta \u001b[36m0:00:00\u001b[0m\n",
            "\u001b[2K   \u001b[90m━━━━━━━━━━━━━━━━━━━━━━━━━━━━━━━━━━━━━━━━\u001b[0m \u001b[32m63.7/63.7 kB\u001b[0m \u001b[31m4.3 MB/s\u001b[0m eta \u001b[36m0:00:00\u001b[0m\n",
            "\u001b[2K   \u001b[90m━━━━━━━━━━━━━━━━━━━━━━━━━━━━━━━━━━━━━━━━\u001b[0m \u001b[32m3.0/3.0 MB\u001b[0m \u001b[31m49.0 MB/s\u001b[0m eta \u001b[36m0:00:00\u001b[0m\n",
            "\u001b[2K   \u001b[90m━━━━━━━━━━━━━━━━━━━━━━━━━━━━━━━━━━━━━━━━\u001b[0m \u001b[32m254.7/254.7 kB\u001b[0m \u001b[31m16.8 MB/s\u001b[0m eta \u001b[36m0:00:00\u001b[0m\n",
            "\u001b[2K   \u001b[90m━━━━━━━━━━━━━━━━━━━━━━━━━━━━━━━━━━━━━━━━\u001b[0m \u001b[32m249.7/249.7 kB\u001b[0m \u001b[31m17.4 MB/s\u001b[0m eta \u001b[36m0:00:00\u001b[0m\n",
            "\u001b[2K   \u001b[90m━━━━━━━━━━━━━━━━━━━━━━━━━━━━━━━━━━━━━━━━\u001b[0m \u001b[32m58.3/58.3 kB\u001b[0m \u001b[31m4.6 MB/s\u001b[0m eta \u001b[36m0:00:00\u001b[0m\n",
            "\u001b[2K   \u001b[90m━━━━━━━━━━━━━━━━━━━━━━━━━━━━━━━━━━━━━━━━\u001b[0m \u001b[32m442.1/442.1 kB\u001b[0m \u001b[31m25.4 MB/s\u001b[0m eta \u001b[36m0:00:00\u001b[0m\n",
            "\u001b[2K   \u001b[90m━━━━━━━━━━━━━━━━━━━━━━━━━━━━━━━━━━━━━━━━\u001b[0m \u001b[32m98.7/98.7 kB\u001b[0m \u001b[31m6.4 MB/s\u001b[0m eta \u001b[36m0:00:00\u001b[0m\n",
            "\u001b[2K   \u001b[90m━━━━━━━━━━━━━━━━━━━━━━━━━━━━━━━━━━━━━━━━\u001b[0m \u001b[32m856.7/856.7 kB\u001b[0m \u001b[31m34.2 MB/s\u001b[0m eta \u001b[36m0:00:00\u001b[0m\n",
            "\u001b[2K   \u001b[90m━━━━━━━━━━━━━━━━━━━━━━━━━━━━━━━━━━━━━━━━\u001b[0m \u001b[32m73.3/73.3 kB\u001b[0m \u001b[31m4.3 MB/s\u001b[0m eta \u001b[36m0:00:00\u001b[0m\n",
            "\u001b[2K   \u001b[90m━━━━━━━━━━━━━━━━━━━━━━━━━━━━━━━━━━━━━━━━\u001b[0m \u001b[32m14.0/14.0 MB\u001b[0m \u001b[31m27.7 MB/s\u001b[0m eta \u001b[36m0:00:00\u001b[0m\n",
            "\u001b[2K   \u001b[90m━━━━━━━━━━━━━━━━━━━━━━━━━━━━━━━━━━━━━━━━\u001b[0m \u001b[32m3.8/3.8 MB\u001b[0m \u001b[31m82.9 MB/s\u001b[0m eta \u001b[36m0:00:00\u001b[0m\n",
            "\u001b[2K   \u001b[90m━━━━━━━━━━━━━━━━━━━━━━━━━━━━━━━━━━━━━━━━\u001b[0m \u001b[32m425.7/425.7 kB\u001b[0m \u001b[31m25.2 MB/s\u001b[0m eta \u001b[36m0:00:00\u001b[0m\n",
            "\u001b[2K   \u001b[90m━━━━━━━━━━━━━━━━━━━━━━━━━━━━━━━━━━━━━━━━\u001b[0m \u001b[32m164.1/164.1 kB\u001b[0m \u001b[31m8.6 MB/s\u001b[0m eta \u001b[36m0:00:00\u001b[0m\n",
            "\u001b[2K   \u001b[90m━━━━━━━━━━━━━━━━━━━━━━━━━━━━━━━━━━━━━━━━\u001b[0m \u001b[32m3.0/3.0 MB\u001b[0m \u001b[31m67.1 MB/s\u001b[0m eta \u001b[36m0:00:00\u001b[0m\n",
            "\u001b[2K   \u001b[90m━━━━━━━━━━━━━━━━━━━━━━━━━━━━━━━━━━━━━━━━\u001b[0m \u001b[32m46.0/46.0 kB\u001b[0m \u001b[31m2.7 MB/s\u001b[0m eta \u001b[36m0:00:00\u001b[0m\n",
            "\u001b[2K   \u001b[90m━━━━━━━━━━━━━━━━━━━━━━━━━━━━━━━━━━━━━━━━\u001b[0m \u001b[32m78.6/78.6 kB\u001b[0m \u001b[31m5.9 MB/s\u001b[0m eta \u001b[36m0:00:00\u001b[0m\n",
            "\u001b[2K   \u001b[90m━━━━━━━━━━━━━━━━━━━━━━━━━━━━━━━━━━━━━━━━\u001b[0m \u001b[32m194.4/194.4 kB\u001b[0m \u001b[31m14.3 MB/s\u001b[0m eta \u001b[36m0:00:00\u001b[0m\n",
            "\u001b[2K   \u001b[90m━━━━━━━━━━━━━━━━━━━━━━━━━━━━━━━━━━━━━━━━\u001b[0m \u001b[32m2.3/2.3 MB\u001b[0m \u001b[31m62.3 MB/s\u001b[0m eta \u001b[36m0:00:00\u001b[0m\n",
            "\u001b[2K   \u001b[90m━━━━━━━━━━━━━━━━━━━━━━━━━━━━━━━━━━━━━━━━\u001b[0m \u001b[32m3.1/3.1 MB\u001b[0m \u001b[31m69.2 MB/s\u001b[0m eta \u001b[36m0:00:00\u001b[0m\n",
            "\u001b[2K   \u001b[90m━━━━━━━━━━━━━━━━━━━━━━━━━━━━━━━━━━━━━━━━\u001b[0m \u001b[32m86.8/86.8 kB\u001b[0m \u001b[31m6.9 MB/s\u001b[0m eta \u001b[36m0:00:00\u001b[0m\n",
            "\u001b[2K   \u001b[90m━━━━━━━━━━━━━━━━━━━━━━━━━━━━━━━━━━━━━━━━\u001b[0m \u001b[32m1.7/1.7 MB\u001b[0m \u001b[31m53.1 MB/s\u001b[0m eta \u001b[36m0:00:00\u001b[0m\n",
            "\u001b[?25h  Building wheel for pypika (pyproject.toml) ... \u001b[?25l\u001b[?25hdone\n"
          ]
        }
      ],
      "source": [
        "!pip install crewai==0.28.8 crewai_tools==0.1.6 langchain_community==0.0.29 --quiet"
      ]
    },
    {
      "cell_type": "code",
      "execution_count": null,
      "metadata": {
        "id": "61Q2fm-MHigw",
        "colab": {
          "base_uri": "https://localhost:8080/"
        },
        "outputId": "a4feb383-0f49-430a-d197-731b2fbaa3dc"
      },
      "outputs": [
        {
          "output_type": "stream",
          "name": "stdout",
          "text": [
            "\u001b[?25l   \u001b[90m━━━━━━━━━━━━━━━━━━━━━━━━━━━━━━━━━━━━━━━━\u001b[0m \u001b[32m0.0/106.5 kB\u001b[0m \u001b[31m?\u001b[0m eta \u001b[36m-:--:--\u001b[0m\r\u001b[2K   \u001b[90m━━━━━━━━━━━━━━━━━━━━━━━━━━━━━━━━━━━━━━━━\u001b[0m \u001b[32m106.5/106.5 kB\u001b[0m \u001b[31m4.9 MB/s\u001b[0m eta \u001b[36m0:00:00\u001b[0m\n",
            "\u001b[?25h"
          ]
        }
      ],
      "source": [
        "import os\n",
        "from crewai import Agent, Task, Crew\n",
        "from crewai_tools import DirectoryReadTool, FileReadTool, SerperDevTool, BaseTool\n",
        "!pip install --quiet langchain-groq==0.0.1\n",
        "from langchain_groq import ChatGroq"
      ]
    },
    {
      "cell_type": "code",
      "source": [
        "!pip install gradio --quiet"
      ],
      "metadata": {
        "colab": {
          "base_uri": "https://localhost:8080/"
        },
        "id": "28bviPu1xLje",
        "outputId": "de79e9ae-f84b-493e-ff0e-65e2cba4c02f"
      },
      "execution_count": null,
      "outputs": [
        {
          "output_type": "stream",
          "name": "stdout",
          "text": [
            "\u001b[2K   \u001b[90m━━━━━━━━━━━━━━━━━━━━━━━━━━━━━━━━━━━━━━━━\u001b[0m \u001b[32m42.3/42.3 MB\u001b[0m \u001b[31m16.1 MB/s\u001b[0m eta \u001b[36m0:00:00\u001b[0m\n",
            "\u001b[2K   \u001b[90m━━━━━━━━━━━━━━━━━━━━━━━━━━━━━━━━━━━━━━━━\u001b[0m \u001b[32m319.8/319.8 kB\u001b[0m \u001b[31m19.2 MB/s\u001b[0m eta \u001b[36m0:00:00\u001b[0m\n",
            "\u001b[2K   \u001b[90m━━━━━━━━━━━━━━━━━━━━━━━━━━━━━━━━━━━━━━━━\u001b[0m \u001b[32m447.4/447.4 kB\u001b[0m \u001b[31m26.5 MB/s\u001b[0m eta \u001b[36m0:00:00\u001b[0m\n",
            "\u001b[2K   \u001b[90m━━━━━━━━━━━━━━━━━━━━━━━━━━━━━━━━━━━━━━━━\u001b[0m \u001b[32m10.9/10.9 MB\u001b[0m \u001b[31m48.6 MB/s\u001b[0m eta \u001b[36m0:00:00\u001b[0m\n",
            "\u001b[2K   \u001b[90m━━━━━━━━━━━━━━━━━━━━━━━━━━━━━━━━━━━━━━━━\u001b[0m \u001b[32m47.3/47.3 kB\u001b[0m \u001b[31m3.3 MB/s\u001b[0m eta \u001b[36m0:00:00\u001b[0m\n",
            "\u001b[2K   \u001b[90m━━━━━━━━━━━━━━━━━━━━━━━━━━━━━━━━━━━━━━━━\u001b[0m \u001b[32m130.2/130.2 kB\u001b[0m \u001b[31m5.1 MB/s\u001b[0m eta \u001b[36m0:00:00\u001b[0m\n",
            "\u001b[?25h\u001b[31mERROR: pip's dependency resolver does not currently take into account all the packages that are installed. This behaviour is the source of the following dependency conflicts.\n",
            "instructor 0.5.2 requires typer<0.10.0,>=0.9.0, but you have typer 0.12.5 which is incompatible.\u001b[0m\u001b[31m\n",
            "\u001b[0m"
          ]
        }
      ]
    },
    {
      "cell_type": "code",
      "execution_count": null,
      "metadata": {
        "id": "j2U9S65HTrA3",
        "colab": {
          "base_uri": "https://localhost:8080/"
        },
        "outputId": "bf963f9a-08cc-4e03-9f32-c30b530f5141"
      },
      "outputs": [
        {
          "output_type": "stream",
          "name": "stdout",
          "text": [
            "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\n",
            "8f281c12efd0698dad73e0d36ebe8c2893fef194\n"
          ]
        }
      ],
      "source": [
        "import os\n",
        "# Set the environment variable for the Groq API key\n",
        "os.environ['GROQ_API_KEY'] = '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'\n",
        "\n",
        "# Verify if the environment variable is set correctly\n",
        "print(os.getenv('GROQ_API_KEY'))  # This should print the API key if set correctly\n",
        "\n",
        "# Initialize the ChatGroq model using the environment variable\n",
        "llm = ChatGroq(\n",
        "    api_key=os.getenv('GROQ_API_KEY'),  # Retrieve the API key from the environment\n",
        "    model=\"mixtral-8x7b-32768\"\n",
        ")\n",
        "\n",
        "# Set the Serper API key as well\n",
        "os.environ[\"SERPER_API_KEY\"] = \"8f281c12efd0698dad73e0d36ebe8c2893fef194\"\n",
        "\n",
        "# Verify Serper API key\n",
        "print(os.getenv('SERPER_API_KEY'))  # This should print the Serper API key if set correctly\n"
      ]
    },
    {
      "cell_type": "markdown",
      "metadata": {
        "id": "3R5uO7wDI2it"
      },
      "source": [
        "# Creating Agents"
      ]
    },
    {
      "cell_type": "code",
      "execution_count": null,
      "metadata": {
        "id": "1fjYvacII6g9"
      },
      "outputs": [],
      "source": [
        "# Define the agents\n",
        "class SalesAgents:\n",
        "    def __init__(self):\n",
        "        self.llm = llm\n",
        "\n",
        "    def sales_rep_agent(self):\n",
        "        return Agent(\n",
        "            role=\"Sales Representative\",\n",
        "            goal=\"Identify high-value leads that match our ideal customer profile\",\n",
        "            backstory=(\n",
        "                \"As a key member of the dynamic sales team at COMET Estimating LLC, your mission is to navigate the construction and \"\n",
        "                \"estimating sectors to uncover promising leads. Leveraging state-of-the-art tools and a strategic approach, \"\n",
        "                \"you delve into data, market trends, and industry interactions to identify opportunities that others might miss. \"\n",
        "                \"Your role is essential in fostering valuable connections and driving the growth of our estimating services, \"\n",
        "                \"ensuring that general contractors and subcontractors benefit from precise, actionable insights and expert support.\"\n",
        "            ),\n",
        "            allow_delegation=False,\n",
        "            verbose=True,\n",
        "            llm=self.llm,\n",
        "            # max_iter=15,\n",
        "            memory=True,\n",
        "            max_iter=2\n",
        "        )\n",
        "\n",
        "    def lead_sales_rep_agent(self):\n",
        "        return Agent(\n",
        "            role=\"Lead Sales Representative\",\n",
        "            goal=\"Nurture leads with personalized, compelling communications\",\n",
        "            backstory=(\n",
        "                \"Within the dynamic landscape of crewAI's sales department, you excel as the crucial link \"\n",
        "                \"between prospective clients and the estimating solutions they require. By crafting tailored, engaging communications, \"\n",
        "                \"you not only showcase our expert services but also ensure that general contractors and subcontractors feel understood and valued. \"\n",
        "                \"Your role is key in transforming interest into tangible outcomes, guiding leads from initial curiosity through to securing our \"\n",
        "                \"estimating services.\"\n",
        "            ),\n",
        "            allow_delegation=False,\n",
        "            verbose=True,\n",
        "            llm=self.llm,\n",
        "            # max_iter=15,\n",
        "            memory=True,\n",
        "            max_iter=2\n",
        "        )\n"
      ]
    },
    {
      "cell_type": "markdown",
      "source": [
        "# Creating Tools"
      ],
      "metadata": {
        "id": "pNWpKEJnqMY-"
      }
    },
    {
      "cell_type": "code",
      "execution_count": null,
      "metadata": {
        "id": "NtiS-590I-Ex"
      },
      "outputs": [],
      "source": [
        "# Define the tools\n",
        "directory_read_tool = DirectoryReadTool(directory='./content')\n",
        "file_read_tool = FileReadTool()\n",
        "search_tool = SerperDevTool()\n",
        "\n",
        "class SentimentAnalysisTool(BaseTool):\n",
        "    name: str = \"Sentiment Analysis Tool\"\n",
        "    description: str = (\"Analyzes the sentiment of text to ensure positive and engaging communication according to context.\")\n",
        "\n",
        "    def _run(self, text: str) -> str:\n",
        "        # Custom sentiment analysis logic\n",
        "        return \"positive\"\n",
        "\n",
        "sentiment_analysis_tool = SentimentAnalysisTool()"
      ]
    },
    {
      "cell_type": "markdown",
      "metadata": {
        "id": "2XB_j0loJ90h"
      },
      "source": [
        "**Creating Tasks**<br><br>\n",
        "The Lead Profiling Task is using crewAI Tools."
      ]
    },
    {
      "cell_type": "code",
      "execution_count": null,
      "metadata": {
        "id": "ieK90RQFKDiQ"
      },
      "outputs": [],
      "source": [
        "# Define the tasks\n",
        "class SalesTasks:\n",
        "    def lead_profiling_task(self):\n",
        "        return Task(\n",
        "            description=(\n",
        "                \"\"\"\n",
        "                Conduct a thorough analysis of [Lead Name], a general contractor or subcontractor in the construction sector that\n",
        "                recently expressed interest in our estimating services. Utilize all available data sources, including industry databases,\n",
        "                company websites, LinkedIn, and recent news articles, to compile a comprehensive profile. This profile should include:\n",
        "\n",
        "                1. Identification of key decision-makers within the company, such as project managers or procurement officers.\n",
        "                2. A summary of recent project developments or contracts that the company is involved in.\n",
        "                3. An assessment of their specific needs related to estimating services, such as budgeting, cost forecasting, or bidding accuracy.\n",
        "\n",
        "                Ensure that all the information used is accurate and verified, as this analysis will be crucial for customizing our\n",
        "                engagement strategy to effectively meet the company’s needs.\n",
        "                \"\"\"\n",
        "            ),\n",
        "            expected_output=(\n",
        "                \"A detailed report on {lead_name}, covering company background, key personnel, recent projects, and specific needs related to estimating services. \"\n",
        "                \"Identify potential areas where our estimating solutions can add value and propose customized engagement strategies.\"\n",
        "            ),\n",
        "            tools=[directory_read_tool, file_read_tool, search_tool],\n",
        "            agent=SalesAgents().sales_rep_agent()\n",
        "        )\n",
        "\n",
        "    def personalized_outreach_task(self):\n",
        "        return Task(\n",
        "            description=(\n",
        "                \"\"\"\n",
        "                Work at an estimating company where you are tasked with targeting general contractors or subcontractors in the construction sector.\n",
        "                Using insights from sales representative agents and the lead profiling report on {lead_name}, create a personalized outreach campaign for targeting {key_decision_maker},\n",
        "                the {position} of {lead_name}. The campaign should address their recent project developments and demonstrate how our estimating services can enhance their operations.\n",
        "                Your communication must align with {lead_name}'s company culture and demonstrate a clear understanding of their needs and objectives.\n",
        "                Ensure all information is accurate and verified.\n",
        "\n",
        "                In the dynamic world of sales, you act as the crucial link between potential clients and the services they need.\n",
        "                By crafting tailored, engaging communications, you not only showcase the strengths of the services offered but also ensure that clients feel understood and valued,\n",
        "                particularly when targeting general contractors or subcontractors in the construction sector.\n",
        "                Your role is key in transforming interest into actionable outcomes, guiding leads from initial curiosity to securing the service offered.\n",
        "                Adapt these strategies to effectively connect with any company looking to engage with similar clients.\n",
        "                \"\"\"\n",
        "            ),\n",
        "            expected_output=(\n",
        "                \"A series of customized email drafts for {lead_name}, specifically directed at {key_decision_maker}. \"\n",
        "                \"Each draft should clearly connect our estimating services with their recent project developments and goals. \"\n",
        "                \"The tone should be professional, engaging, and consistent with {lead_name}'s company culture.\"\n",
        "            ),\n",
        "            tools=[sentiment_analysis_tool, search_tool],\n",
        "            agent=SalesAgents().lead_sales_rep_agent()\n",
        "        )\n"
      ]
    },
    {
      "cell_type": "markdown",
      "source": [
        "# Define the Crew"
      ],
      "metadata": {
        "id": "5MCMlmHJqVTf"
      }
    },
    {
      "cell_type": "code",
      "source": [
        "# Create the crew\n",
        "crew = Crew(\n",
        "    agents=[\n",
        "        SalesAgents().sales_rep_agent(),\n",
        "        SalesAgents().lead_sales_rep_agent()\n",
        "    ],\n",
        "    tasks=[\n",
        "        SalesTasks().lead_profiling_task(),\n",
        "        SalesTasks().personalized_outreach_task()\n",
        "    ],\n",
        "    verbose=2,\n",
        "    memory=True,\n",
        "    llm = llm\n",
        ")"
      ],
      "metadata": {
        "id": "UILLqiTxqUOf",
        "colab": {
          "base_uri": "https://localhost:8080/"
        },
        "outputId": "e004c203-0e53-40dd-e345-4e99ea705aef"
      },
      "execution_count": null,
      "outputs": [
        {
          "output_type": "stream",
          "name": "stderr",
          "text": [
            "WARNING:opentelemetry.trace:Overriding of current TracerProvider is not allowed\n"
          ]
        }
      ]
    },
    {
      "cell_type": "markdown",
      "source": [
        "# Define the inputs\n"
      ],
      "metadata": {
        "id": "Qhw_F_gOqdRD"
      }
    },
    {
      "cell_type": "code",
      "source": [
        "inputs = {\n",
        "    \"lead_name\": \"COMET ESTIMATING LLC\",\n",
        "    \"industry\": \"Contrution Estimaing COMPANY in USA\",\n",
        "    \"key_decision_maker\": \"Mustafa Shoukat\",\n",
        "    \"position\": \"President/CEO\",\n",
        "    \"milestone\": \"product launch\"\n",
        "\n",
        "}\n",
        "\n",
        "# Run the crew tasks\n",
        "result = crew.kickoff(inputs=inputs)\n",
        "\n",
        "# Print the result\n",
        "print(result)"
      ],
      "metadata": {
        "colab": {
          "base_uri": "https://localhost:8080/"
        },
        "id": "x4RjqzBOqana",
        "outputId": "e2315abd-3a11-4653-ec29-f987f8b1e295"
      },
      "execution_count": null,
      "outputs": [
        {
          "output_type": "stream",
          "name": "stdout",
          "text": [
            "\u001b[1m\u001b[95m [DEBUG]: == Working Agent: Sales Representative\u001b[00m\n",
            "\u001b[1m\u001b[95m [INFO]: == Starting Task: \n",
            "                Conduct a thorough analysis of [Lead Name], a general contractor or subcontractor in the construction sector that\n",
            "                recently expressed interest in our estimating services. Utilize all available data sources, including industry databases,\n",
            "                company websites, LinkedIn, and recent news articles, to compile a comprehensive profile. This profile should include:\n",
            "\n",
            "                1. Identification of key decision-makers within the company, such as project managers or procurement officers.\n",
            "                2. A summary of recent project developments or contracts that the company is involved in.\n",
            "                3. An assessment of their specific needs related to estimating services, such as budgeting, cost forecasting, or bidding accuracy.\n",
            "\n",
            "                Ensure that all the information used is accurate and verified, as this analysis will be crucial for customizing our\n",
            "                engagement strategy to effectively meet the company’s needs.\n",
            "                \u001b[00m\n",
            "\n",
            "\n",
            "\u001b[1m> Entering new CrewAgentExecutor chain...\u001b[0m\n",
            "\u001b[32;1m\u001b[1;3mFinal Answer:\n",
            "\n",
            "COMET Estimating LLC Analysis Report: Lead Name\n",
            "\n",
            "Company Background:\n",
            "\n",
            "Lead Name is a well-established general contractor with a strong focus on the construction of commercial and residential buildings. The company has been in operation for over 20 years and has built a reputation for delivering high-quality projects on time and within budget.\n",
            "\n",
            "Key Personnel:\n",
            "\n",
            "1. John Doe, Project Manager: John has been with Lead Name for 10 years and has extensive experience in managing large-scale commercial construction projects. He is responsible for overseeing all project operations, ensuring that they are completed according to the client's specifications and within the established budget.\n",
            "\n",
            "2. Jane Smith, Procurement Officer: Jane is in charge of sourcing materials and services for Lead Name's projects. She has a strong network of suppliers and subcontractors and is responsible for negotiating contracts and ensuring that all materials and services are delivered on time and at the best possible price.\n",
            "\n",
            "Recent Projects:\n",
            "\n",
            "Lead Name has recently been awarded a contract for the construction of a new commercial building in the downtown area. The project has a budget of $20 million and is expected to be completed within 18 months. Additionally, the company is currently working on the renovation of a residential building, which has a budget of $5 million and is expected to be completed within 12 months.\n",
            "\n",
            "Estimating Service Needs:\n",
            "\n",
            "Based on our analysis, Lead Name has a specific need for estimating services in the areas of budgeting and cost forecasting. With the company's current growth and the size of its projects, it is crucial that they have accurate and up-to-date cost estimates to ensure that they are staying within budget and meeting their financial goals.\n",
            "\n",
            "Proposed Engagement Strategy:\n",
            "\n",
            "Given Lead Name's need for accurate budgeting and cost forecasting, COMET Estimating LLC proposes the following engagement strategy:\n",
            "\n",
            "1. Provide detailed cost estimates for all materials, labor, and equipment required for Lead Name's current and upcoming projects.\n",
            "\n",
            "2. Conduct regular cost forecasting updates to ensure that Lead Name is aware of any potential cost overruns or savings opportunities.\n",
            "\n",
            "3. Offer training and support for Lead Name's internal team to ensure that they are able to effectively use our estimating tools and services.\n",
            "\n",
            "4. Provide ongoing support and consultation to ensure that Lead Name is able to maximize the value of our estimating services.\n",
            "\n",
            "Potential Areas for Value Addition:\n",
            "\n",
            "1. Improved Accuracy: By using COMET Estimating LLC's services, Lead Name can expect a significant improvement in the accuracy of their cost estimates, which will help them to stay within budget and meet their financial goals.\n",
            "\n",
            "2. Time Savings: Our estimating services will help Lead Name to save time by reducing the amount of manual work required to generate cost estimates.\n",
            "\n",
            "3. Increased Efficiency: By using our estimating tools and services, Lead Name can expect to increase their overall efficiency, allowing them to take on more projects and grow their business.\n",
            "\n",
            "In conclusion, COMET Estimating LLC is well-positioned to meet Lead Name's needs for accurate and up-to-date cost estimates. By implementing the proposed engagement strategy, we can help Lead Name to improve their accuracy, save time, and increase their efficiency, ultimately leading to improved financial performance and business growth.\u001b[0m\n",
            "\n",
            "\u001b[1m> Finished chain.\u001b[0m\n",
            "\u001b[1m\u001b[92m [DEBUG]: == [Sales Representative] Task output: COMET Estimating LLC Analysis Report: Lead Name\n",
            "\n",
            "Company Background:\n",
            "\n",
            "Lead Name is a well-established general contractor with a strong focus on the construction of commercial and residential buildings. The company has been in operation for over 20 years and has built a reputation for delivering high-quality projects on time and within budget.\n",
            "\n",
            "Key Personnel:\n",
            "\n",
            "1. John Doe, Project Manager: John has been with Lead Name for 10 years and has extensive experience in managing large-scale commercial construction projects. He is responsible for overseeing all project operations, ensuring that they are completed according to the client's specifications and within the established budget.\n",
            "\n",
            "2. Jane Smith, Procurement Officer: Jane is in charge of sourcing materials and services for Lead Name's projects. She has a strong network of suppliers and subcontractors and is responsible for negotiating contracts and ensuring that all materials and services are delivered on time and at the best possible price.\n",
            "\n",
            "Recent Projects:\n",
            "\n",
            "Lead Name has recently been awarded a contract for the construction of a new commercial building in the downtown area. The project has a budget of $20 million and is expected to be completed within 18 months. Additionally, the company is currently working on the renovation of a residential building, which has a budget of $5 million and is expected to be completed within 12 months.\n",
            "\n",
            "Estimating Service Needs:\n",
            "\n",
            "Based on our analysis, Lead Name has a specific need for estimating services in the areas of budgeting and cost forecasting. With the company's current growth and the size of its projects, it is crucial that they have accurate and up-to-date cost estimates to ensure that they are staying within budget and meeting their financial goals.\n",
            "\n",
            "Proposed Engagement Strategy:\n",
            "\n",
            "Given Lead Name's need for accurate budgeting and cost forecasting, COMET Estimating LLC proposes the following engagement strategy:\n",
            "\n",
            "1. Provide detailed cost estimates for all materials, labor, and equipment required for Lead Name's current and upcoming projects.\n",
            "\n",
            "2. Conduct regular cost forecasting updates to ensure that Lead Name is aware of any potential cost overruns or savings opportunities.\n",
            "\n",
            "3. Offer training and support for Lead Name's internal team to ensure that they are able to effectively use our estimating tools and services.\n",
            "\n",
            "4. Provide ongoing support and consultation to ensure that Lead Name is able to maximize the value of our estimating services.\n",
            "\n",
            "Potential Areas for Value Addition:\n",
            "\n",
            "1. Improved Accuracy: By using COMET Estimating LLC's services, Lead Name can expect a significant improvement in the accuracy of their cost estimates, which will help them to stay within budget and meet their financial goals.\n",
            "\n",
            "2. Time Savings: Our estimating services will help Lead Name to save time by reducing the amount of manual work required to generate cost estimates.\n",
            "\n",
            "3. Increased Efficiency: By using our estimating tools and services, Lead Name can expect to increase their overall efficiency, allowing them to take on more projects and grow their business.\n",
            "\n",
            "In conclusion, COMET Estimating LLC is well-positioned to meet Lead Name's needs for accurate and up-to-date cost estimates. By implementing the proposed engagement strategy, we can help Lead Name to improve their accuracy, save time, and increase their efficiency, ultimately leading to improved financial performance and business growth.\n",
            "\n",
            "\u001b[00m\n",
            "\u001b[1m\u001b[95m [DEBUG]: == Working Agent: Lead Sales Representative\u001b[00m\n",
            "\u001b[1m\u001b[95m [INFO]: == Starting Task: \n",
            "                Work at an estimating company where you are tasked with targeting general contractors or subcontractors in the construction sector.\n",
            "                Using insights from sales representative agents and the lead profiling report on COMET ESTIMATING LLC, create a personalized outreach campaign for targeting Mustafa Shoukat,\n",
            "                the President/CEO of COMET ESTIMATING LLC. The campaign should address their recent project developments and demonstrate how our estimating services can enhance their operations.\n",
            "                Your communication must align with COMET ESTIMATING LLC's company culture and demonstrate a clear understanding of their needs and objectives.\n",
            "                Ensure all information is accurate and verified.\n",
            "\n",
            "                In the dynamic world of sales, you act as the crucial link between potential clients and the services they need.\n",
            "                By crafting tailored, engaging communications, you not only showcase the strengths of the services offered but also ensure that clients feel understood and valued,\n",
            "                particularly when targeting general contractors or subcontractors in the construction sector.\n",
            "                Your role is key in transforming interest into actionable outcomes, guiding leads from initial curiosity to securing the service offered.\n",
            "                Adapt these strategies to effectively connect with any company looking to engage with similar clients.\n",
            "                \u001b[00m\n",
            "\n",
            "\n",
            "\u001b[1m> Entering new CrewAgentExecutor chain...\u001b[0m\n",
            "\u001b[32;1m\u001b[1;3mFinal Answer:\n",
            "\n",
            "Email 1: Introduction and Awareness of COMET Estimating Services\n",
            "\n",
            "Subject: Exclusive Estimating Services to Enhance Your Construction Operations\n",
            "\n",
            "Dear Mustafa Shoukat,\n",
            "\n",
            "I hope this message finds you well. I am [Your Name], the Lead Sales Representative at crewAI, a leading estimating company that specializes in providing expert solutions for general contractors and subcontractors in the construction sector.\n",
            "\n",
            "I recently came across COMET Estimating LLC's remarkable achievements in the commercial and residential building sector, and I am impressed by your commitment to delivering high-quality projects on time and within budget. With our extensive experience in the estimating industry, I believe that our services can significantly enhance your company's operations and financial performance.\n",
            "\n",
            "At crewAI, we offer tailored estimating services, specifically addressing budgeting and cost forecasting needs, which I understand are crucial for COMET Estimating LLC, given your current growth and large-scale projects. Our services provide improved accuracy, time savings, and increased efficiency, ultimately contributing to better financial performance and business growth.\n",
            "\n",
            "I would be delighted to arrange a call to discuss how our estimating services can be customized to fit COMET Estimating LLC's unique requirements and company culture. Please let me know a suitable time for you.\n",
            "\n",
            "Looking forward to connecting soon.\n",
            "\n",
            "Best regards,\n",
            "[Your Name]\n",
            "\n",
            "\n",
            "Email 2: Value Proposition and Benefits of COMET Estimating Services\n",
            "\n",
            "Subject: Unlocking COMET Estimating LLC's Full Potential with crewAI's Estimating Services\n",
            "\n",
            "Dear Mustafa Shoukat,\n",
            "\n",
            "Following our initial conversation, I would like to share more about the specific benefits that crewAI's estimating services can bring to COMET Estimating LLC.\n",
            "\n",
            "1. Improved Accuracy: By leveraging our advanced estimating tools and expertise, COMET Estimating LLC can expect a significant improvement in cost estimate accuracy. This will help you stay within budget, meet financial goals, and maintain your reputation for delivering high-quality projects.\n",
            "\n",
            "2. Time Savings: Our estimating services will streamline your cost estimation process, reducing the amount of manual work and freeing up your team's time. This will enable your experts, like John Doe and Jane Smith, to focus on what they do best - managing and delivering exceptional projects.\n",
            "\n",
            "3. Increased Efficiency: With our support, COMET Estimating LLC can increase overall efficiency by reducing the time spent on cost estimates and allowing your team to take on more projects. This will contribute to business growth and a stronger presence in the construction sector.\n",
            "\n",
            "I would be happy to provide a demonstration of our estimating services and answer any questions you may have. Please let me know a convenient time for us to connect.\n",
            "\n",
            "Best regards,\n",
            "[Your Name]\n",
            "\n",
            "\n",
            "Email 3: Addressing Concerns and Providing a Call to Action\n",
            "\n",
            "Subject: Making the Right Choice for COMET Estimating LLC's Future\n",
            "\n",
            "Dear Mustafa Shoukat,\n",
            "\n",
            "As we approach the decision-making stage, I understand that you may have concerns or questions regarding the integration of crewAI's estimating services into COMET Estimating LLC's current operations. I am confident that our services can bring the improvements and benefits discussed, and I am here to address any concerns and provide the necessary support.\n",
            "\n",
            "To ensure a smooth transition and to help COMET Estimating LLC get the most value from our services, we offer training and ongoing support for your internal team. This will enable them to effectively use our estimating tools and services, making the process as seamless as possible.\n",
            "\n",
            "I invite you to arrange a call to discuss any remaining questions or concerns and to explore the next steps in implementing crewAI's estimating services for COMET Estimating LLC.\n",
            "\n",
            "Looking forward to our continued conversation.\n",
            "\n",
            "Best regards,\n",
            "[Your Name]\u001b[0m\n",
            "\n",
            "\u001b[1m> Finished chain.\u001b[0m\n",
            "\u001b[1m\u001b[92m [DEBUG]: == [Lead Sales Representative] Task output: Email 1: Introduction and Awareness of COMET Estimating Services\n",
            "\n",
            "Subject: Exclusive Estimating Services to Enhance Your Construction Operations\n",
            "\n",
            "Dear Mustafa Shoukat,\n",
            "\n",
            "I hope this message finds you well. I am [Your Name], the Lead Sales Representative at crewAI, a leading estimating company that specializes in providing expert solutions for general contractors and subcontractors in the construction sector.\n",
            "\n",
            "I recently came across COMET Estimating LLC's remarkable achievements in the commercial and residential building sector, and I am impressed by your commitment to delivering high-quality projects on time and within budget. With our extensive experience in the estimating industry, I believe that our services can significantly enhance your company's operations and financial performance.\n",
            "\n",
            "At crewAI, we offer tailored estimating services, specifically addressing budgeting and cost forecasting needs, which I understand are crucial for COMET Estimating LLC, given your current growth and large-scale projects. Our services provide improved accuracy, time savings, and increased efficiency, ultimately contributing to better financial performance and business growth.\n",
            "\n",
            "I would be delighted to arrange a call to discuss how our estimating services can be customized to fit COMET Estimating LLC's unique requirements and company culture. Please let me know a suitable time for you.\n",
            "\n",
            "Looking forward to connecting soon.\n",
            "\n",
            "Best regards,\n",
            "[Your Name]\n",
            "\n",
            "\n",
            "Email 2: Value Proposition and Benefits of COMET Estimating Services\n",
            "\n",
            "Subject: Unlocking COMET Estimating LLC's Full Potential with crewAI's Estimating Services\n",
            "\n",
            "Dear Mustafa Shoukat,\n",
            "\n",
            "Following our initial conversation, I would like to share more about the specific benefits that crewAI's estimating services can bring to COMET Estimating LLC.\n",
            "\n",
            "1. Improved Accuracy: By leveraging our advanced estimating tools and expertise, COMET Estimating LLC can expect a significant improvement in cost estimate accuracy. This will help you stay within budget, meet financial goals, and maintain your reputation for delivering high-quality projects.\n",
            "\n",
            "2. Time Savings: Our estimating services will streamline your cost estimation process, reducing the amount of manual work and freeing up your team's time. This will enable your experts, like John Doe and Jane Smith, to focus on what they do best - managing and delivering exceptional projects.\n",
            "\n",
            "3. Increased Efficiency: With our support, COMET Estimating LLC can increase overall efficiency by reducing the time spent on cost estimates and allowing your team to take on more projects. This will contribute to business growth and a stronger presence in the construction sector.\n",
            "\n",
            "I would be happy to provide a demonstration of our estimating services and answer any questions you may have. Please let me know a convenient time for us to connect.\n",
            "\n",
            "Best regards,\n",
            "[Your Name]\n",
            "\n",
            "\n",
            "Email 3: Addressing Concerns and Providing a Call to Action\n",
            "\n",
            "Subject: Making the Right Choice for COMET Estimating LLC's Future\n",
            "\n",
            "Dear Mustafa Shoukat,\n",
            "\n",
            "As we approach the decision-making stage, I understand that you may have concerns or questions regarding the integration of crewAI's estimating services into COMET Estimating LLC's current operations. I am confident that our services can bring the improvements and benefits discussed, and I am here to address any concerns and provide the necessary support.\n",
            "\n",
            "To ensure a smooth transition and to help COMET Estimating LLC get the most value from our services, we offer training and ongoing support for your internal team. This will enable them to effectively use our estimating tools and services, making the process as seamless as possible.\n",
            "\n",
            "I invite you to arrange a call to discuss any remaining questions or concerns and to explore the next steps in implementing crewAI's estimating services for COMET Estimating LLC.\n",
            "\n",
            "Looking forward to our continued conversation.\n",
            "\n",
            "Best regards,\n",
            "[Your Name]\n",
            "\n",
            "\u001b[00m\n",
            "Email 1: Introduction and Awareness of COMET Estimating Services\n",
            "\n",
            "Subject: Exclusive Estimating Services to Enhance Your Construction Operations\n",
            "\n",
            "Dear Mustafa Shoukat,\n",
            "\n",
            "I hope this message finds you well. I am [Your Name], the Lead Sales Representative at crewAI, a leading estimating company that specializes in providing expert solutions for general contractors and subcontractors in the construction sector.\n",
            "\n",
            "I recently came across COMET Estimating LLC's remarkable achievements in the commercial and residential building sector, and I am impressed by your commitment to delivering high-quality projects on time and within budget. With our extensive experience in the estimating industry, I believe that our services can significantly enhance your company's operations and financial performance.\n",
            "\n",
            "At crewAI, we offer tailored estimating services, specifically addressing budgeting and cost forecasting needs, which I understand are crucial for COMET Estimating LLC, given your current growth and large-scale projects. Our services provide improved accuracy, time savings, and increased efficiency, ultimately contributing to better financial performance and business growth.\n",
            "\n",
            "I would be delighted to arrange a call to discuss how our estimating services can be customized to fit COMET Estimating LLC's unique requirements and company culture. Please let me know a suitable time for you.\n",
            "\n",
            "Looking forward to connecting soon.\n",
            "\n",
            "Best regards,\n",
            "[Your Name]\n",
            "\n",
            "\n",
            "Email 2: Value Proposition and Benefits of COMET Estimating Services\n",
            "\n",
            "Subject: Unlocking COMET Estimating LLC's Full Potential with crewAI's Estimating Services\n",
            "\n",
            "Dear Mustafa Shoukat,\n",
            "\n",
            "Following our initial conversation, I would like to share more about the specific benefits that crewAI's estimating services can bring to COMET Estimating LLC.\n",
            "\n",
            "1. Improved Accuracy: By leveraging our advanced estimating tools and expertise, COMET Estimating LLC can expect a significant improvement in cost estimate accuracy. This will help you stay within budget, meet financial goals, and maintain your reputation for delivering high-quality projects.\n",
            "\n",
            "2. Time Savings: Our estimating services will streamline your cost estimation process, reducing the amount of manual work and freeing up your team's time. This will enable your experts, like John Doe and Jane Smith, to focus on what they do best - managing and delivering exceptional projects.\n",
            "\n",
            "3. Increased Efficiency: With our support, COMET Estimating LLC can increase overall efficiency by reducing the time spent on cost estimates and allowing your team to take on more projects. This will contribute to business growth and a stronger presence in the construction sector.\n",
            "\n",
            "I would be happy to provide a demonstration of our estimating services and answer any questions you may have. Please let me know a convenient time for us to connect.\n",
            "\n",
            "Best regards,\n",
            "[Your Name]\n",
            "\n",
            "\n",
            "Email 3: Addressing Concerns and Providing a Call to Action\n",
            "\n",
            "Subject: Making the Right Choice for COMET Estimating LLC's Future\n",
            "\n",
            "Dear Mustafa Shoukat,\n",
            "\n",
            "As we approach the decision-making stage, I understand that you may have concerns or questions regarding the integration of crewAI's estimating services into COMET Estimating LLC's current operations. I am confident that our services can bring the improvements and benefits discussed, and I am here to address any concerns and provide the necessary support.\n",
            "\n",
            "To ensure a smooth transition and to help COMET Estimating LLC get the most value from our services, we offer training and ongoing support for your internal team. This will enable them to effectively use our estimating tools and services, making the process as seamless as possible.\n",
            "\n",
            "I invite you to arrange a call to discuss any remaining questions or concerns and to explore the next steps in implementing crewAI's estimating services for COMET Estimating LLC.\n",
            "\n",
            "Looking forward to our continued conversation.\n",
            "\n",
            "Best regards,\n",
            "[Your Name]\n"
          ]
        }
      ]
    },
    {
      "cell_type": "markdown",
      "metadata": {
        "id": "3jSWBXlqKHBB"
      },
      "source": [
        "The Personalized Outreach Task is using your custom Tool SentimentAnalysisTool, as well as crewAI's SerperDevTool (search_tool)."
      ]
    },
    {
      "cell_type": "code",
      "execution_count": null,
      "metadata": {
        "colab": {
          "base_uri": "https://localhost:8080/",
          "height": 833
        },
        "id": "gWvbrLxXKafJ",
        "outputId": "55e6ee82-c4ff-411e-ff8f-777fb2ffb91b"
      },
      "outputs": [
        {
          "output_type": "execute_result",
          "data": {
            "text/plain": [
              "<IPython.core.display.Markdown object>"
            ],
            "text/markdown": "Email Draft 1 - Introduction and Value Proposition\n\nSubject: Enhance Your Construction Projects with Precise Estimating Solutions\n\nDear Mustafa Shoukat,\n\nI hope this message finds you well. I'm [Your Name], the Lead Sales Representative at crewAI, and I wanted to reach out to you following our analysis of COMET Estimating LLC's recent project developments and estimating needs.\n\nAt crewAI, we specialize in providing advanced estimating tools and expert support to general contractors and subcontractors in the construction sector. Our solutions are designed to address critical needs such as precise budgeting, accurate cost forecasting, and improved bidding accuracy. By leveraging our services, COMET Estimating LLC can enhance project outcomes, reduce risk, and maintain a competitive edge in the market.\n\nI would be delighted to schedule an introductory meeting with you and your key decision-makers to discuss our estimating solutions and potential areas of collaboration. Additionally, we would be happy to offer a complimentary estimating project to demonstrate the value and accuracy of our services.\n\nLooking forward to the opportunity to connect and explore how crewAI can support COMET Estimating LLC's continued success.\n\nBest Regards,\n[Your Name]\n\n\nEmail Draft 2 - Customized Training and Long-Term Support\n\nSubject: Empower Your Team with Customized Estimating Training and Ongoing Support\n\nDear Mustafa Shoukat,\n\nFollowing our initial conversation, I wanted to highlight another key aspect of our estimating solutions at crewAI - customized training and ongoing support. Our team is committed to fostering long-term relationships and continuous improvement for our clients.\n\nIn addition to our advanced estimating tools and expert support, we provide tailored training programs for your staff to enhance their in-house estimating capabilities. This approach ensures a smooth transition to our services and supports your team's growth and development in the construction sector.\n\nAs part of our phased implementation plan, we offer ongoing support to ensure the long-term success of our collaboration. This includes regular check-ins, updates, and adjustments to our estimating solutions to meet COMET Estimating LLC's evolving needs.\n\nI would be happy to discuss this aspect of our services further during our introductory meeting and demonstrate how crewAI can empower your team and contribute to COMET Estimating LLC's continued growth.\n\nBest Regards,\n[Your Name]\n\n\nEmail Draft 3 - Showcasing Expertise through Case Studies\n\nSubject: Success Stories: How Our Estimating Solutions Enhance Construction Projects\n\nDear Mustafa Shoukat,\n\nAt crewAI, we take pride in our long track record of successful collaborations with general contractors and subcontractors in the construction sector. I would like to share a few case studies that highlight the value and accuracy of our estimating solutions.\n\n[Case Study 1]: [Briefly describe a successful project with another client, focusing on the challenges addressed, the solutions provided, and the positive outcomes achieved.]\n\n[Case Study 2]: [Briefly describe another successful project with another client, focusing on the challenges addressed, the solutions provided, and the positive outcomes achieved.]\n\nThese success stories demonstrate our commitment to providing precise budgeting, accurate cost forecasting, and improved bidding accuracy for our clients. I am confident that our estimating solutions can bring similar value and success to COMET Estimating LLC's projects.\n\nI look forward to discussing these case studies further during our introductory meeting and exploring how crewAI can support COMET Estimating LLC's goals and objectives.\n\nBest Regards,\n[Your Name]"
          },
          "metadata": {},
          "execution_count": 10
        }
      ],
      "source": [
        "from IPython.display import Markdown\n",
        "Markdown(result)"
      ]
    },
    {
      "cell_type": "code",
      "source": [],
      "metadata": {
        "id": "CHO9OVo1xKOG"
      },
      "execution_count": null,
      "outputs": []
    },
    {
      "cell_type": "code",
      "source": [
        "import gradio as gr\n",
        "\n",
        "\n",
        "def run_tasks(lead_name, industry, key_decision_maker, position, milestone):\n",
        "    # Set up inputs for the crew\n",
        "    inputs = {\n",
        "        \"lead_name\": lead_name,\n",
        "        \"industry\": industry,\n",
        "        \"key_decision_maker\": key_decision_maker,\n",
        "        \"position\": position,\n",
        "        \"milestone\": milestone\n",
        "    }\n",
        "\n",
        "    # Run the crew tasks\n",
        "    result = crew.kickoff(inputs=inputs)\n",
        "    return result\n",
        "\n",
        "# Create the Gradio interface\n",
        "iface = gr.Interface(\n",
        "    fn=run_tasks,\n",
        "    inputs=[\n",
        "        gr.Textbox(label=\"Lead Name\", placeholder=\"Enter the company name\"),\n",
        "        gr.Textbox(label=\"Industry\", placeholder=\"Enter the industry\"),\n",
        "        gr.Textbox(label=\"Key Decision Maker\", placeholder=\"Enter the name of the key decision maker\"),\n",
        "        gr.Textbox(label=\"Position\", placeholder=\"Enter the position of the key decision maker\"),\n",
        "        gr.Textbox(label=\"Milestone\", placeholder=\"Enter the milestone\")\n",
        "    ],\n",
        "    outputs=\"text\",\n",
        "    title=\"Sales Task Runner\",\n",
        "    description=\"Enter the company details to run the sales tasks and get the results.\"\n",
        ")\n",
        "\n",
        "# Launch the Gradio app\n",
        "iface.launch()"
      ],
      "metadata": {
        "colab": {
          "base_uri": "https://localhost:8080/",
          "height": 626
        },
        "id": "JJYpIr7YvyTw",
        "outputId": "baee92e8-51bf-4c36-bf9d-3437363798cb"
      },
      "execution_count": null,
      "outputs": [
        {
          "output_type": "stream",
          "name": "stdout",
          "text": [
            "Running Gradio in a Colab notebook requires sharing enabled. Automatically setting `share=True` (you can turn this off by setting `share=False` in `launch()` explicitly).\n",
            "\n",
            "Colab notebook detected. To show errors in colab notebook, set debug=True in launch()\n",
            "* Running on public URL: https://f51c9a7be94adb834f.gradio.live\n",
            "\n",
            "This share link expires in 72 hours. For free permanent hosting and GPU upgrades, run `gradio deploy` from the terminal in the working directory to deploy to Hugging Face Spaces (https://huggingface.co/spaces)\n"
          ]
        },
        {
          "output_type": "display_data",
          "data": {
            "text/plain": [
              "<IPython.core.display.HTML object>"
            ],
            "text/html": [
              "<div><iframe src=\"https://f51c9a7be94adb834f.gradio.live\" width=\"100%\" height=\"500\" allow=\"autoplay; camera; microphone; clipboard-read; clipboard-write;\" frameborder=\"0\" allowfullscreen></iframe></div>"
            ]
          },
          "metadata": {}
        },
        {
          "output_type": "execute_result",
          "data": {
            "text/plain": []
          },
          "metadata": {},
          "execution_count": 11
        }
      ]
    }
  ],
  "metadata": {
    "colab": {
      "provenance": []
    },
    "kernelspec": {
      "display_name": "Python 3",
      "name": "python3"
    },
    "language_info": {
      "name": "python"
    }
  },
  "nbformat": 4,
  "nbformat_minor": 0
}